{
 "cells": [
  {
   "cell_type": "markdown",
   "metadata": {},
   "source": [
    "**Ex1：数质数**\n",
    "给定一个正整数n，计算出小于等于n的质数有多少个。 比如17，则返回7，因为小于等于7的质数有2，3，5，7，13，17"
   ]
  },
  {
   "cell_type": "code",
   "execution_count": 7,
   "metadata": {
    "collapsed": true
   },
   "outputs": [],
   "source": [
    "def prime_count(n):\n",
    "    is_prime= [True]*(n+1)\n",
    "    i= 2\n",
    "    if (i*i <= n):\n",
    "        if is_prime[i]:\n",
    "            j=i\n",
    "            while (j*i <= n):\n",
    "                is_prime[j*i]=False\n",
    "                j=j+1\n",
    "        i= i+1\n",
    "        print(is_prime)\n",
    "        \n",
    "    count=0    \n",
    "    for i in range(2,n+1):\n",
    "        if is_prime[i]:\n",
    "            count= count+1\n",
    "            print(i, end= ' ')\n",
    "    return count\n",
    "        \n",
    "                \n",
    "        \n",
    "        "
   ]
  },
  {
   "cell_type": "code",
   "execution_count": 11,
   "metadata": {},
   "outputs": [
    {
     "name": "stdout",
     "output_type": "stream",
     "text": [
      "[True, True, True, True, False, True, False, True]\n",
      "2 3 5 7 "
     ]
    },
    {
     "data": {
      "text/plain": [
       "4"
      ]
     },
     "execution_count": 11,
     "metadata": {},
     "output_type": "execute_result"
    }
   ],
   "source": [
    "prime_count(7)  "
   ]
  },
  {
   "cell_type": "markdown",
   "metadata": {},
   "source": [
    "**Ex2：哥德巴赫猜想**\n",
    "任一大于2的偶数，都可表示成两个质数之和。"
   ]
  },
  {
   "cell_type": "code",
   "execution_count": null,
   "metadata": {
    "collapsed": true
   },
   "outputs": [],
   "source": [
    "def goldbach(n):\n",
    "    #get all primes for n\n",
    "    is_primes= [True]*(n+1)\n",
    "    i=2\n",
    "    while i*i<=n:\n",
    "        if is_primes[i]:\n",
    "            j=i\n",
    "            while j*i<=n:\n",
    "                is_primes[j*i]= False\n",
    "                j= j+1\n",
    "        i= i+1\n",
    "    \n",
    "    count=0\n",
    "    for i in range(2,n+1):\n",
    "        if is_primes[i]:\n",
    "            count= count+1\n",
    "            \n",
    "    #get the formula of sum of two primes \n",
    "    primes=[None] * count\n",
    "    idx=0\n",
    "    for i in range(2,n+1):\n",
    "        if is_primes(i):\n",
    "            primes[idx]= i  \n",
    "            idx= idx + 1\n",
    "\n",
    "    left=0\n",
    "    right=count-1\n",
    "    while (left<right):\n",
    "        if (n == primes[left]+ primes[right]):\n",
    "            print('n=',primes[left],'+',primes[right])\n",
    "            left= left+1\n",
    "            right= right-1\n",
    "        elif (n> primes[left]+ primes[right]):\n",
    "            left= left+1\n",
    "        else:\n",
    "            right= right-1    "
   ]
  },
  {
   "cell_type": "code",
   "execution_count": null,
   "metadata": {
    "collapsed": true
   },
   "outputs": [],
   "source": [
    "goldbach(20)"
   ]
  },
  {
   "cell_type": "markdown",
   "metadata": {
    "collapsed": true
   },
   "source": [
    "**EX3: 歌唱比赛**   去掉一个最高分，去掉一个最低分，求平均分"
   ]
  },
  {
   "cell_type": "code",
   "execution_count": 2,
   "metadata": {},
   "outputs": [
    {
     "data": {
      "text/plain": [
       "(8.642857142857142, 7, 1.0013580322265625e-05)"
      ]
     },
     "execution_count": 2,
     "metadata": {},
     "output_type": "execute_result"
    }
   ],
   "source": [
    "import time\n",
    "def singing_score(values):\n",
    "    start = time.time()\n",
    "    small_pos = 0\n",
    "    for i in range(1, len(values)):\n",
    "        if values[i] < values[small_pos] :\n",
    "            small_pos = i\n",
    "            \n",
    "    high_pos = 0\n",
    "    for i in range(1, len(values)):\n",
    "        if values[i] > values[high_pos] :\n",
    "            high_pos = i\n",
    "    values.remove(values[small_pos])\n",
    "    values.remove(values[high_pos])\n",
    "    rst = sum(values)/len(values)\n",
    "    t = time.time() - start\n",
    "    return rst, len(values), t\n",
    "\n",
    "#Find the min and max\n",
    "#Remove it from the list.\n",
    "values =  [8,9,5,10,5,8,7,9,9.5]\n",
    "singing_score(values)"
   ]
  },
  {
   "cell_type": "markdown",
   "metadata": {},
   "source": [
    "** EX4: 求π**"
   ]
  },
  {
   "cell_type": "code",
   "execution_count": 3,
   "metadata": {
    "collapsed": true
   },
   "outputs": [],
   "source": [
    "from random import random\n",
    "\n",
    "def pi(TRIES):\n",
    "    hits = 0\n",
    "    for i in range(TRIES) :\n",
    "        # Generate two random numbers between –1 and 1\n",
    "        r = random()\n",
    "        x = -1 + 2 * r\n",
    "        r = random()\n",
    "        y = -1 + 2 * r\n",
    "        # Check whether the point lies in the unit circle\n",
    "        if x * x + y * y <= 1 :\n",
    "            hits = hits + 1\n",
    "\n",
    "        # The ratio hits / tries is approximately the same as the ratio\n",
    "        # circle area / square area = pi / 4.\n",
    "    return 4.0 * hits / TRIES"
   ]
  },
  {
   "cell_type": "code",
   "execution_count": 4,
   "metadata": {
    "collapsed": true
   },
   "outputs": [],
   "source": [
    "def pi2(n):\n",
    "    sign= 1\n",
    "    for i in range(1,n+1,2):\n",
    "        pi= pi + sign*(1/i)\n",
    "        sign= sign*(-1)\n",
    "    return 4*pi"
   ]
  },
  {
   "cell_type": "code",
   "execution_count": null,
   "metadata": {
    "collapsed": true
   },
   "outputs": [],
   "source": []
  }
 ],
 "metadata": {
  "kernelspec": {
   "display_name": "Python 3",
   "language": "python",
   "name": "python3"
  },
  "language_info": {
   "codemirror_mode": {
    "name": "ipython",
    "version": 3
   },
   "file_extension": ".py",
   "mimetype": "text/x-python",
   "name": "python",
   "nbconvert_exporter": "python",
   "pygments_lexer": "ipython3",
   "version": "3.6.3"
  }
 },
 "nbformat": 4,
 "nbformat_minor": 2
}
