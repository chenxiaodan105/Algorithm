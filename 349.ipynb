{
 "cells": [
  {
   "cell_type": "markdown",
   "metadata": {},
   "source": [
    "### 349. Intersection of Two Arrays"
   ]
  },
  {
   "cell_type": "markdown",
   "metadata": {},
   "source": [
    "Given two arrays, write a function to compute their intersection."
   ]
  },
  {
   "cell_type": "markdown",
   "metadata": {},
   "source": [
    "#### solution1"
   ]
  },
  {
   "cell_type": "code",
   "execution_count": 1,
   "metadata": {
    "collapsed": true
   },
   "outputs": [],
   "source": [
    "class solution:\n",
    "    def intersection(self,num1,num2):\n",
    "        s1= set(num1) #get unique values in num1\n",
    "        s2= set(num2)\n",
    "        \n",
    "        return list(s1.intersection(s2))"
   ]
  },
  {
   "cell_type": "code",
   "execution_count": 2,
   "metadata": {},
   "outputs": [
    {
     "data": {
      "text/plain": [
       "[8, 3, 4]"
      ]
     },
     "execution_count": 2,
     "metadata": {},
     "output_type": "execute_result"
    }
   ],
   "source": [
    "num1= [4,6,3,7,7,8,1,0,8]\n",
    "num2=[4,5,8,11,3,9,9,34]\n",
    "s= solution()\n",
    "s.intersection(num1,num2)"
   ]
  },
  {
   "cell_type": "markdown",
   "metadata": {},
   "source": [
    "this solution equals:"
   ]
  },
  {
   "cell_type": "code",
   "execution_count": 10,
   "metadata": {
    "collapsed": true
   },
   "outputs": [],
   "source": [
    "def inter(num1,num2):\n",
    "    s1, s2= set(num1), set(num2)\n",
    "    list=[]\n",
    "    for num in s1:\n",
    "        if num in s2:\n",
    "            list.append(num)\n",
    "    return list           "
   ]
  },
  {
   "cell_type": "code",
   "execution_count": 11,
   "metadata": {},
   "outputs": [
    {
     "data": {
      "text/plain": [
       "[3, 4, 8]"
      ]
     },
     "execution_count": 11,
     "metadata": {},
     "output_type": "execute_result"
    }
   ],
   "source": [
    "num1= [4,6,3,7,7,8,1,0,8]\n",
    "num2=[4,5,8,11,3,9,9,34]\n",
    "inter(num1,num2)"
   ]
  },
  {
   "cell_type": "markdown",
   "metadata": {},
   "source": [
    "#### solution2"
   ]
  },
  {
   "cell_type": "code",
   "execution_count": 27,
   "metadata": {
    "collapsed": true
   },
   "outputs": [],
   "source": [
    "class solution2:\n",
    "    def intersection2(self,num1,num2):\n",
    "        #Space complexity is O(n) and time complexity is O(n), where n is largest length of among both arrays\n",
    "        result = set()\n",
    "        hashmap = {}\n",
    "        \n",
    "        for num in num1:\n",
    "            hashmap[num] = hashmap.get(num,1) # return all values to be 1\n",
    "            \n",
    "        for num in num2:\n",
    "            if num in hashmap:\n",
    "                result.add(num) #add unique value in result set \n",
    "                \n",
    "        return list(result)"
   ]
  },
  {
   "cell_type": "code",
   "execution_count": 28,
   "metadata": {},
   "outputs": [
    {
     "data": {
      "text/plain": [
       "[8, 3, 4]"
      ]
     },
     "execution_count": 28,
     "metadata": {},
     "output_type": "execute_result"
    }
   ],
   "source": [
    "num1= [4,6,3,7,7,8,1,0,8]\n",
    "num2=[4,5,8,11,3,9,9,34]\n",
    "s= solution2()\n",
    "s.intersection2(num1,num2)"
   ]
  }
 ],
 "metadata": {
  "kernelspec": {
   "display_name": "Python 3",
   "language": "python",
   "name": "python3"
  },
  "language_info": {
   "codemirror_mode": {
    "name": "ipython",
    "version": 3
   },
   "file_extension": ".py",
   "mimetype": "text/x-python",
   "name": "python",
   "nbconvert_exporter": "python",
   "pygments_lexer": "ipython3",
   "version": "3.6.3"
  }
 },
 "nbformat": 4,
 "nbformat_minor": 2
}
