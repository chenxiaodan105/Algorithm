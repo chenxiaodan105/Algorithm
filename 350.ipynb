{
 "cells": [
  {
   "cell_type": "markdown",
   "metadata": {},
   "source": [
    "### 350. Intersection of Two Arrays II"
   ]
  },
  {
   "cell_type": "markdown",
   "metadata": {},
   "source": [
    "Given two arrays, write a function to compute their intersection.\n",
    "\n",
    "Example:\n",
    "Given nums1 = [1, 2, 2, 1], nums2 = [2, 2], return [2, 2]."
   ]
  },
  {
   "cell_type": "code",
   "execution_count": 9,
   "metadata": {
    "collapsed": true
   },
   "outputs": [],
   "source": [
    "#hashmap to solve this problem\n",
    "class solution(object):  \n",
    "    def intersect(self, nums1, nums2):  \n",
    "        output = []  \n",
    "        Dict = {}  \n",
    "        for i in nums1:  \n",
    "            if i in Dict:  \n",
    "                Dict[i] = Dict[i]+1  \n",
    "            else:  \n",
    "                Dict[i] = 1  \n",
    "          \n",
    "        for i in nums2:  \n",
    "            if i in Dict:  \n",
    "                if Dict[i]>=1:  \n",
    "                    Dict[i] = Dict[i]-1  \n",
    "                    output.append(i)  \n",
    "                    continue  \n",
    "                else:  \n",
    "                    continue  \n",
    "            else:  \n",
    "                continue  \n",
    "          \n",
    "        return output  \n"
   ]
  },
  {
   "cell_type": "code",
   "execution_count": 15,
   "metadata": {},
   "outputs": [
    {
     "data": {
      "text/plain": [
       "[3, 3, 2, 1, 2, 4]"
      ]
     },
     "execution_count": 15,
     "metadata": {},
     "output_type": "execute_result"
    }
   ],
   "source": [
    "nums1=[1,2,3,3,4,2,6,1,0,66,23]\n",
    "nums2=[3,3,2,1,2,2,7,4]\n",
    "s=solution()\n",
    "s.intersect(nums1,nums2)"
   ]
  },
  {
   "cell_type": "code",
   "execution_count": null,
   "metadata": {
    "collapsed": true
   },
   "outputs": [],
   "source": [
    "#informal version, just for trying"
   ]
  },
  {
   "cell_type": "code",
   "execution_count": 34,
   "metadata": {
    "collapsed": true
   },
   "outputs": [],
   "source": [
    "def inter(num1,num2):\n",
    "    result=[]\n",
    "    hashmap={}\n",
    "    for num in num1:\n",
    "        if num in hashmap:\n",
    "            hashmap[num]= hashmap[num]+1\n",
    "        else:\n",
    "            hashmap[num]= 1\n",
    "        \n",
    "    for num in num2:\n",
    "        if num in hashmap:\n",
    "            if hashmap[num]>=1:\n",
    "                hashmap[num]= hashmap[num]-1\n",
    "                result.append(num)\n",
    "                continue\n",
    "            else:\n",
    "                continue\n",
    "        else:\n",
    "            continue\n",
    "    return result"
   ]
  },
  {
   "cell_type": "code",
   "execution_count": 35,
   "metadata": {},
   "outputs": [
    {
     "data": {
      "text/plain": [
       "[3, 3, 2, 1, 2, 4]"
      ]
     },
     "execution_count": 35,
     "metadata": {},
     "output_type": "execute_result"
    }
   ],
   "source": [
    "num1=[1,2,3,3,4,2,6,1,0,66,23]\n",
    "num2=[3,3,2,1,2,2,7,4]\n",
    "\n",
    "inter(num1,num2)"
   ]
  },
  {
   "cell_type": "markdown",
   "metadata": {},
   "source": [
    "T(n)= O(n)"
   ]
  },
  {
   "cell_type": "code",
   "execution_count": null,
   "metadata": {
    "collapsed": true
   },
   "outputs": [],
   "source": []
  }
 ],
 "metadata": {
  "kernelspec": {
   "display_name": "Python 3",
   "language": "python",
   "name": "python3"
  },
  "language_info": {
   "codemirror_mode": {
    "name": "ipython",
    "version": 3
   },
   "file_extension": ".py",
   "mimetype": "text/x-python",
   "name": "python",
   "nbconvert_exporter": "python",
   "pygments_lexer": "ipython3",
   "version": "3.6.3"
  }
 },
 "nbformat": 4,
 "nbformat_minor": 2
}
